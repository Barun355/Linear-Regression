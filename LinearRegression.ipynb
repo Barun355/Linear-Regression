{
  "nbformat": 4,
  "nbformat_minor": 0,
  "metadata": {
    "colab": {
      "name": "LinearRegression.ipynb",
      "provenance": [],
      "collapsed_sections": []
    },
    "kernelspec": {
      "name": "python3",
      "display_name": "Python 3"
    },
    "language_info": {
      "name": "python"
    }
  },
  "cells": [
    {
      "cell_type": "markdown",
      "source": [
        "# Linear Regression Model building"
      ],
      "metadata": {
        "id": "sN9jc4Zuz6WI"
      }
    },
    {
      "cell_type": "code",
      "execution_count": null,
      "metadata": {
        "id": "PQCzRORzz1LL"
      },
      "outputs": [],
      "source": [
        "# Importing required library\n",
        "import numpy as np"
      ]
    },
    {
      "cell_type": "code",
      "source": [
        "\n",
        "# Linear Regression class\n",
        "\n",
        "class LinearRegression():\n",
        "\"\"\"This is the Linear Regression Class.\"\"\"\n",
        "\n",
        "  def __init__(self, learning_rate=0.01, no_of_iteration=1000):\n",
        "    \"\"\"\n",
        "    Initilizatig the defaut value\n",
        "    Learning rate = 0.01\n",
        "    No of iteration = 1000\n",
        "\n",
        "    \"\"\"\n",
        "    self.learning_rate = learning_rate\n",
        "    self.no_of_iteration = no_of_iteration\n",
        "    \n",
        "  def fit(self, x, y):\n",
        "    \"\"\"\n",
        "    fit(x, y):\n",
        "\n",
        "    This fit method is having two parameters x and y\n",
        "    x is the independent variable and y is the dependent variable\n",
        "    x : Features.\n",
        "    y : Target.\n",
        "\n",
        "    Firstly this method creates the weight and bias with default value\n",
        "    weight(w) : array of size as the no of data points with zeros\n",
        "    bias      : with zeros\n",
        "\n",
        "    As we have to precict the best line of fit(line of regressison)\n",
        "    We have to predict the value for every data points and predict the best line of fit.\n",
        "    Therefore for best line of regression we should have the best Modal Parameters.\n",
        "    The Modal Parameters in this case is weight and bias.\n",
        "    So, by default we initilize the default value of parameter sa zero.\n",
        "    And updating parameters by calling the update_parameters() method as no of iteration given.\n",
        "    \"\"\"\n",
        "\n",
        "    self.m, self.n = x.shape\n",
        "\n",
        "    self.w = np.zeros(self.n)\n",
        "    self.b = 0\n",
        "    self.x = x\n",
        "    self.y = y\n",
        "    for i in range(self.no_of_iteration):\n",
        "      self.update_parameters()\n",
        "\n",
        "  def update_parameters(self):\n",
        "    \"\"\"\n",
        "    Updating parameter by predicting values of y using the x values and doing some mathematical stuffs.\n",
        "    \"\"\"\n",
        "    y_predict = self.predict(self.x)\n",
        "\n",
        "    dw = -(2*(self.x.T).dot(self.y-y_predict))/self.m\n",
        "    db = -2 * np.sum(self.y-y_predict)/self.m\n",
        "\n",
        "    self.w = self.w-self.learning_rate*dw\n",
        "    self.b = self.b-self.learning_rate*db\n",
        "\n",
        "\n",
        "  def predict(self, x):\n",
        "    \"\"\"\n",
        "    Predicting the values\n",
        "    \"\"\"\n",
        "    return x.dot(self.w)+self.b"
      ],
      "metadata": {
        "id": "tPagArrR0D0F"
      },
      "execution_count": null,
      "outputs": []
    },
    {
      "cell_type": "markdown",
      "source": [
        "# Implementing custom LinearRegression Model"
      ],
      "metadata": {
        "id": "O98dKXOt3ZwX"
      }
    },
    {
      "cell_type": "code",
      "source": [
        "\n",
        "\"\"\"\n",
        "# Importing required libraries\n",
        "import pandas as pd\n",
        "import matplotlib.pyplot as plt\n",
        "from sklearn.model_selection import train_test_split as ts\n",
        "\"\"\""
      ],
      "metadata": {
        "id": "pheOeF1i3hcH",
        "colab": {
          "base_uri": "https://localhost:8080/",
          "height": 140
        },
        "outputId": "624e71b6-151f-49a3-9def-34accb670bbf"
      },
      "execution_count": null,
      "outputs": [
        {
          "output_type": "execute_result",
          "data": {
            "text/plain": [
              "'\\n# Importing required libraries\\nimport pandas as pd\\nimport matplotlib.pyplot as plt\\nfrom sklearn.model_selection import train_test_split as ts\\n'"
            ],
            "application/vnd.google.colaboratory.intrinsic+json": {
              "type": "string"
            }
          },
          "metadata": {},
          "execution_count": 1
        }
      ]
    },
    {
      "cell_type": "code",
      "source": [
        "\n",
        "\"\"\"\n",
        "# Loading data\n",
        "\n",
        "train = pd.read_csv(\"/content/salary_data.csv\")\n",
        "x = train.iloc[:, :-1].values\n",
        "y = train.iloc[:, 1].values\n",
        "x_train, x_test, y_train, y_test = ts(x, y, test_size=0.33, random_state=2)\n",
        "x_train\n",
        "y_train\n",
        "x\n",
        "#print(x_train.shape, x.shape)\n",
        "\"\"\""
      ],
      "metadata": {
        "id": "k8dzgUeJ4LJJ",
        "colab": {
          "base_uri": "https://localhost:8080/",
          "height": 226
        },
        "outputId": "f1fa02b2-6fac-4824-a613-a0bb6dfda73b"
      },
      "execution_count": null,
      "outputs": [
        {
          "output_type": "execute_result",
          "data": {
            "text/plain": [
              "'\\n# Loading data\\n\\ntrain = pd.read_csv(\"/content/salary_data.csv\")\\nx = train.iloc[:, :-1].values\\ny = train.iloc[:, 1].values\\nx_train, x_test, y_train, y_test = ts(x, y, test_size=0.33, random_state=2)\\nx_train\\ny_train\\nx\\n#print(x_train.shape, x.shape)\\n'"
            ],
            "application/vnd.google.colaboratory.intrinsic+json": {
              "type": "string"
            }
          },
          "metadata": {},
          "execution_count": 2
        }
      ]
    },
    {
      "cell_type": "code",
      "source": [
        "#Model = LinearRegression(0.02, 1000)"
      ],
      "metadata": {
        "id": "qpDm8miX0hgC"
      },
      "execution_count": null,
      "outputs": []
    },
    {
      "cell_type": "code",
      "source": [
        "#Model.fit(x_train, y_train)"
      ],
      "metadata": {
        "id": "f6H98KD-0w2e"
      },
      "execution_count": null,
      "outputs": []
    },
    {
      "cell_type": "code",
      "source": [
        "#Model.w"
      ],
      "metadata": {
        "colab": {
          "base_uri": "https://localhost:8080/"
        },
        "id": "loMH4xj0ClYp",
        "outputId": "3f629279-11ba-466c-822f-a92e764c78c2"
      },
      "execution_count": null,
      "outputs": [
        {
          "output_type": "execute_result",
          "data": {
            "text/plain": [
              "array([9580.3011966])"
            ]
          },
          "metadata": {},
          "execution_count": 20
        }
      ]
    },
    {
      "cell_type": "code",
      "source": [
        "#predict = Model.predict(x_test)\n",
        "#predict"
      ],
      "metadata": {
        "id": "ASCcPooSC0uc"
      },
      "execution_count": null,
      "outputs": []
    },
    {
      "cell_type": "code",
      "source": [
        "\n",
        "\"\"\"\n",
        "plt.scatter(x_test, y_test)\n",
        "plt.plot(x_test, predict)\n",
        "plt.show ()\n",
        "\"\"\""
      ],
      "metadata": {
        "colab": {
          "base_uri": "https://localhost:8080/",
          "height": 87
        },
        "id": "bYrQMPDmEsHf",
        "outputId": "5803bb87-815c-4fbd-dcfa-7f9974f32c7c"
      },
      "execution_count": null,
      "outputs": [
        {
          "output_type": "execute_result",
          "data": {
            "text/plain": [
              "'\\nplt.scatter(x_test, y_test)\\nplt.plot(x_test, predict)\\nplt.show ()\\n'"
            ],
            "application/vnd.google.colaboratory.intrinsic+json": {
              "type": "string"
            }
          },
          "metadata": {},
          "execution_count": 5
        }
      ]
    },
    {
      "cell_type": "markdown",
      "source": [
        "# Creating new model"
      ],
      "metadata": {
        "id": "3P_4zhSXmCr-"
      }
    },
    {
      "cell_type": "code",
      "source": [
        "#model = LinearRegression(0.02, 1000)"
      ],
      "metadata": {
        "id": "TAnwWOAxmL8Y"
      },
      "execution_count": null,
      "outputs": []
    },
    {
      "cell_type": "code",
      "source": [
        "#data = pd.read_csv(\"/content/sample_data/mnist_train_small.csv\")\n",
        "#data.head()"
      ],
      "metadata": {
        "id": "8a1Jx7ZRml2Z"
      },
      "execution_count": null,
      "outputs": []
    }
  ]
}